{
 "metadata": {
  "language_info": {
   "codemirror_mode": {
    "name": "ipython",
    "version": 3
   },
   "file_extension": ".py",
   "mimetype": "text/x-python",
   "name": "python",
   "nbconvert_exporter": "python",
   "pygments_lexer": "ipython3",
   "version": 3
  },
  "orig_nbformat": 2
 },
 "nbformat": 4,
 "nbformat_minor": 2,
 "cells": [
  {
   "source": [
    "# Dry Part"
   ],
   "cell_type": "markdown",
   "metadata": {}
  },
  {
   "source": [
    "\n",
    "\n",
    "## Question 1\n",
    "\n",
    "We would like to prove that $ \\epsilon_t = \\sum_{i=1}^{N} D_i^{t+1}\\cdot\\mathbb{1}_{h_t(x_i)\\neq y_i} = \\frac{1}{2} $ for $h_t$ the chosen weak classifier.  \n",
    "\n",
    "Recall our definitions from the lecture:  \n",
    "$$\n",
    "D_i^{(t+1)}=\\frac{D_i^{(t)}\\cdot exp(-w_ty_ih_t(x_i))}{\\sum_{j=1}^N D_j^{(t)}\\cdot exp(-w_ty_ih_t(x_j))} \\\\\n",
    "\n",
    "w_t=\\frac{1}{2}log(\\frac{1}{\\epsilon_t}-1)\n",
    "$$\n",
    "\n",
    "We will later on use the following statement:\n",
    "\n",
    "$$\n",
    "exp(-2w_t) = exp(-2 \\cdot \\frac{1}{2}log(\\frac{1}{\\epsilon_t}-1)) = \\frac{\\epsilon_t}{1-\\epsilon_t}\n",
    "$$\n",
    "\n",
    "For ease of use, we shall denote the set of indices of the examples which where classfied wrongly as $A$, and $A^C$ for the examples which where classified correctly.  \n",
    "Let's massage the target mathematical definition for the error:  \n",
    "$$\n",
    " \\epsilon_t = \\sum_{i=1}^{N} D_i^{t+1}\\cdot\\mathbb{1}_{h_t(x_i)\\neq y_i} =\\\\\n",
    " \\sum_{i\\in A} D_i^{t+1}\\cdot\\mathbb{1} + \\sum_{i\\in A^C} D_i^{t+1}\\cdot\\mathbb{0} = \\\\\n",
    "$$\n",
    "We can cancel out the correct samples as they contribute 0 to the error. Then we can plug in our expression for $D_i^{t+1}$:\n",
    "$$\n",
    " \\sum_{i\\in A} D_i^{t+1} =\\\\\n",
    " \\sum_{i\\in A} \\frac{D_i^{(t)}\\cdot exp(-w_ty_ih_t(x_i))}{\\sum_{j=1}^N D_j^{(t)}\\cdot exp(-w_ty_ih_t(x_j))} =\\\\\n",
    "$$\n",
    "Notice how $y_ih_t(x_i) = -1$ for every wrong sample, simplifyig our expression:  \n",
    "$$\n",
    " \\sum_{i\\in A} \\frac{D_i^{(t)}\\cdot exp(-w_t\\cdot(-1))}{\\sum_{j=1}^N D_j^{(t)}\\cdot exp(-w_ty_ih_t(x_j))} =\\\\\n",
    " \\sum_{i\\in A} \\frac{D_i^{(t)}\\cdot exp(w_t)}{\\sum_{j=1}^N D_j^{(t)}\\cdot exp(-w_ty_ih_t(x_j))} =\\\\\n",
    " $$\n",
    " We can now seperate the sum in the denominator to two parts - the wrongly classfied samples and the correct ones, and treat the expressions similarly to before:\n",
    " $$\n",
    " \\frac{ \\sum_{i\\in A} D_i^{(t)}\\cdot exp(w_t)}{\\sum_{j\\in A} D_j^{(t)}\\cdot exp(-w_ty_ih_t(x_j)) + \\sum_{j\\in A^C} D_j^{(t)}\\cdot exp(-w_ty_ih_t(x_j))} =\\\\\n",
    "\\frac{ \\sum_{i\\in A} D_i^{(t)}\\cdot exp(w_t)}{\\sum_{j\\in A} D_j^{(t)}\\cdot exp(w_t) + \\sum_{j\\in A^C} D_j^{(t)}\\cdot exp(-w_t)} =\\\\\n",
    " \\frac{\\sum_{i\\in A} D_i^{(t)}}{\\sum_{j\\in A} D_j^{(t)} + \\sum_{j\\in A^C} D_j^{(t)}\\cdot exp(-2w_t)} =\\\\\n",
    "$$\n",
    "Finally, we managed to get to the given expression we needed, now we just need to plug in our calculation of $exp(-2w_t)$:\n",
    "$$\n",
    "\\frac{\\epsilon_t}{\\epsilon_t + (1-\\epsilon_t)\\cdot exp(-2w_t)} =\\\\\n",
    "\\frac{\\epsilon_t}{\\epsilon_t + (1-\\epsilon_t)\\cdot \\frac{\\epsilon_t}{1-\\epsilon_t}} =\\\\\n",
    "\\frac{\\epsilon_t}{\\epsilon_t + \\epsilon_t }=\\\\\n",
    "\\frac{1}{2}\n",
    " $$"
   ],
   "cell_type": "markdown",
   "metadata": {}
  },
  {
   "source": [
    "## Question 2\n",
    "\n"
   ],
   "cell_type": "markdown",
   "metadata": {}
  }
 ]
}